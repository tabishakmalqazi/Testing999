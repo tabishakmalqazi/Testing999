{
 "cells": [
  {
   "cell_type": "code",
   "execution_count": 7,
   "id": "c2bb1f2c",
   "metadata": {},
   "outputs": [
    {
     "data": {
      "text/plain": [
       "[5, 14, 11, 22]"
      ]
     },
     "execution_count": 7,
     "metadata": {},
     "output_type": "execute_result"
    }
   ],
   "source": [
    "lst1=[1,5,8,9]\n",
    "lst2=[4,9,3,13]\n",
    "list(map(lambda x,y:x+y,lst1,lst2))"
   ]
  },
  {
   "cell_type": "code",
   "execution_count": 8,
   "id": "6c02c8b2",
   "metadata": {},
   "outputs": [],
   "source": [
    "import os\n",
    "file=open(\"My_name.txt\",\"w\")\n",
    "file.write(\"qazi\")\n",
    "file.close"
   ]
  },
  {
   "cell_type": "code",
   "execution_count": 9,
   "id": "d99a0795",
   "metadata": {},
   "outputs": [
    {
     "data": {
      "text/plain": [
       "<function TextIOWrapper.close()>"
      ]
     },
     "execution_count": 9,
     "metadata": {},
     "output_type": "execute_result"
    }
   ],
   "source": [
    "import os\n",
    "file=open(\"My_name_1.txt\",\"a\")\n",
    "file.write(\"qazi\")\n",
    "file.close"
   ]
  },
  {
   "cell_type": "code",
   "execution_count": 12,
   "id": "f87ff35a",
   "metadata": {},
   "outputs": [
    {
     "name": "stdout",
     "output_type": "stream",
     "text": [
      "2022-07-30 12:56:53.053950\n"
     ]
    }
   ],
   "source": [
    "import datetime\n",
    "curet_date=datetime.datetime.now()\n",
    "print(curet_date)"
   ]
  },
  {
   "cell_type": "code",
   "execution_count": null,
   "id": "ac8c1ad3",
   "metadata": {},
   "outputs": [],
   "source": [
    "1. how to create file\n",
    "2. delete that created file\n",
    "3. create file in curret dir and copy or move that file on desktop.\n",
    "4. what is strptime\n",
    "5. what is strftime\n",
    "6. what is _name_ == _main_\n",
    "7. what is recursive function\n",
    "8. what is lambda function\n",
    "9. diff bet rmdir and mkdir\n",
    "8. what is argument\n",
    "9. create a list and convert list into dict using map function. and tell us map function syntax.\n",
    "10. diff betn all() and any()\n",
    "11. Arguments type of arguments \n",
    "12.file handling \n",
    "13.oops class object \n",
    "14.how to delete file from dir how to create multiple dir\n",
    "15.And any diff\n",
    "16.Data Type of *arg and  \n",
    "17.Data Type of **keyword arg\n",
    "18.Write a program By using lambda function sort a dictionary by its value\n",
    "What is timedelta\n",
    "Write a program for today yesterday and tomorrow dates\n",
    "Try Except else\n",
    "Map filter diff\n",
    "What is recursive function\n",
    "Types of functions\n",
    "what is delta time\n",
    "what is lambda function\n",
    "what is filter write code with random list\n",
    "How to handle files\n",
    "Explain strftime and strptime witj code\n",
    " How to get the path of any file in python.\n",
    "How to delete a folder containing folders?    \n",
    "Group - F (Mr.Vikas Phadtare)\n",
    "What is the difference between map and filter.\n",
    "With the help of built-in function take square , cube and even no. of list\n",
    "Lst = [2,3,4,5,6] \n",
    "what is syntax of lambda function\n",
    "What is types of file creation in python\n",
    "What is \"w\" , \"r\" and \"x\" in file creation\n",
    "what is difference between \"w\" and \"x\" in file creation\n",
    "what is types of exception error handling (skip try and except)\n",
    "Types of argument\n",
    "What is reduce function\n",
    "what is  module , package and library\n",
    "What is the purpose of init file in a package.\n",
    "\n",
    "\n",
    "\n",
    "\n"
   ]
  },
  {
   "cell_type": "code",
   "execution_count": 1,
   "id": "52ae5cde",
   "metadata": {},
   "outputs": [],
   "source": [
    "# 3. create file in curret dir and copy or move that file on desktop.\n",
    "with open(\"hammadqazi.txt\",\"a\") as p:\n",
    "    p.write(\"d-pharm from agpur\")\n",
    "    \n",
    "\n"
   ]
  },
  {
   "cell_type": "code",
   "execution_count": 9,
   "id": "fcd27a00",
   "metadata": {},
   "outputs": [
    {
     "ename": "SyntaxError",
     "evalue": "(unicode error) 'unicodeescape' codec can't decode bytes in position 3-4: truncated \\UXXXXXXXX escape (1619858983.py, line 2)",
     "output_type": "error",
     "traceback": [
      "\u001b[1;36m  Input \u001b[1;32mIn [9]\u001b[1;36m\u001b[0m\n\u001b[1;33m    path=\"C\\\\\\Users\\Admin\\Desktop\"\u001b[0m\n\u001b[1;37m                                  ^\u001b[0m\n\u001b[1;31mSyntaxError\u001b[0m\u001b[1;31m:\u001b[0m (unicode error) 'unicodeescape' codec can't decode bytes in position 3-4: truncated \\UXXXXXXXX escape\n"
     ]
    }
   ],
   "source": [
    "import shutil\n",
    "path=\"C\\\\\\Users\\Admin\\Desktop\"\n",
    "shutil.copy(\"hammadqazi.txt\",path)"
   ]
  },
  {
   "cell_type": "code",
   "execution_count": 4,
   "id": "25fdac46",
   "metadata": {},
   "outputs": [
    {
     "data": {
      "text/plain": [
       "'C:\\\\Users\\\\Admin\\\\tab problem solving'"
      ]
     },
     "execution_count": 4,
     "metadata": {},
     "output_type": "execute_result"
    }
   ],
   "source": [
    "import os\n",
    "os.getcwd()"
   ]
  },
  {
   "cell_type": "code",
   "execution_count": null,
   "id": "296853ce",
   "metadata": {},
   "outputs": [],
   "source": [
    "# 9. create a list and convert list into dict using map function. and tell us map function syntax.\n",
    "lst=[2,4,8,9,12]\n",
    "lst1=[8,9,10,12,13]\n",
    "dict(map(lambda ))"
   ]
  },
  {
   "cell_type": "code",
   "execution_count": 13,
   "id": "ab376089",
   "metadata": {},
   "outputs": [
    {
     "name": "stdout",
     "output_type": "stream",
     "text": [
      "todys_date is 2022-08-03 13:24:46.475208\n",
      "yesterday_date is 2022-08-02 13:24:46.475208\n",
      "tommorow_date is 2022-08-04 13:24:46.475208\n"
     ]
    }
   ],
   "source": [
    "# Write a program for today yesterday and tomorrow dates\n",
    "import datetime\n",
    "todys_date=datetime.datetime.today()\n",
    "yesterday_date=todys_date+datetime.timedelta(days=-1)\n",
    "yesterday_date=todys_date+datetime.timedelta(days=-1)\n",
    "tommorow_date=todys_date+datetime.timedelta(days=1)\n",
    "\n",
    "print(\"todys_date is\",todys_date)\n",
    "print(\"yesterday_date is\",yesterday_date)\n",
    "print(\"tommorow_date is\",tommorow_date)"
   ]
  },
  {
   "cell_type": "code",
   "execution_count": null,
   "id": "7342f8dd",
   "metadata": {},
   "outputs": [],
   "source": [
    "# 1. how to create file\n",
    "# 2. delete that created file\n",
    "3. create file in curret dir and copy or move that file on desktop.\n",
    "4. what is strptime\n",
    "5. what is strftime\n",
    "6. what is _name_ == _main_\n",
    "# 7. what is recursive function\n",
    "# 8. what is lambda function\n",
    "# 9. diff bet rmdir and mkdir\n",
    "8. what is argument\n",
    "9. create a list and convert list into dict using map function. and tell us map function syntax.\n",
    "# 10. diff betn all() and any()\n",
    "# 11. Arguments type of arguments \n",
    "# 12.file handling \n",
    "# 13.oops class object \n",
    "# 14.how to delete file from dir how to create multiple dir\n",
    "15.And any diff\n",
    "16.Data Type of *arg and  \n",
    "17.Data Type of **keyword arg\n",
    "18.Write a program By using lambda function sort a dictionary by its value\n",
    "# What is timedelta\n",
    "# Write a program for today yesterday and tomorrow dates\n",
    "Try Except else\n",
    "# Map filter diff\n",
    "# What is recursive function\n",
    "Types of functions\n",
    "# what is delta time\n",
    "# what is lambda function\n",
    "# what is filter write code with random list\n",
    "# How to handle files\n",
    "Explain strftime and strptime witj code\n",
    " How to get the path of any file in python.\n",
    "How to delete a folder containing folders?    \n",
    "# What is the difference between map and filter.\n",
    "# With the help of built-in function take square , cube and even no. of list\n",
    "# Lst = [2,3,4,5,6] \n",
    "# what is syntax of lambda function\n",
    "What is types of file creation in python\n",
    "# What is \"w\" , \"r\" and \"x\" in file creation\n",
    "# what is difference between \"w\" and \"x\" in file creation\n",
    "what is types of exception error handling (skip try and except)\n",
    "# Types of argument\n",
    "# What is reduce function\n",
    "# what is  module , package and library\n",
    "What is the purpose of init file in a package.\n",
    "\n",
    "\n",
    "\n",
    "\n"
   ]
  },
  {
   "cell_type": "code",
   "execution_count": 14,
   "id": "334cf8f4",
   "metadata": {},
   "outputs": [],
   "source": [
    "Lst = [2,3,4,5,6] "
   ]
  },
  {
   "cell_type": "code",
   "execution_count": 19,
   "id": "a9c1b16e",
   "metadata": {},
   "outputs": [
    {
     "name": "stdout",
     "output_type": "stream",
     "text": [
      "[2, 4, 6]\n",
      "[4, 9, 16, 25, 36]\n",
      "[8, 27, 64, 125, 216]\n"
     ]
    }
   ],
   "source": [
    "E=lambda a:[i for i in a if i%2==0]\n",
    "S=lambda a:[i**2 for i in a]\n",
    "C=lambda a:[i**3 for i in a]\n",
    "\n",
    "\n",
    "print(E(Lst))\n",
    "print(S(Lst))\n",
    "print(C(Lst))"
   ]
  },
  {
   "cell_type": "code",
   "execution_count": null,
   "id": "8b3348b5",
   "metadata": {},
   "outputs": [],
   "source": []
  },
  {
   "cell_type": "code",
   "execution_count": null,
   "id": "67eb87ec",
   "metadata": {},
   "outputs": [],
   "source": []
  },
  {
   "cell_type": "code",
   "execution_count": null,
   "id": "4f13747c",
   "metadata": {},
   "outputs": [],
   "source": []
  }
 ],
 "metadata": {
  "kernelspec": {
   "display_name": "Python 3 (ipykernel)",
   "language": "python",
   "name": "python3"
  },
  "language_info": {
   "codemirror_mode": {
    "name": "ipython",
    "version": 3
   },
   "file_extension": ".py",
   "mimetype": "text/x-python",
   "name": "python",
   "nbconvert_exporter": "python",
   "pygments_lexer": "ipython3",
   "version": "3.9.12"
  }
 },
 "nbformat": 4,
 "nbformat_minor": 5
}
